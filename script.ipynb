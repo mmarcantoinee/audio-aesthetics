{
 "cells": [
  {
   "cell_type": "code",
   "execution_count": null,
   "id": "8ee970e3",
   "metadata": {},
   "outputs": [],
   "source": [
    "# When running for the first time, run in terminal to set up the environment:\n",
    "    # python -m venv env\n",
    "    # Set-ExecutionPolicy -ExecutionPolicy Bypass -Scope Process\n",
    "    # .\\env\\Scripts\\activate\n",
    "    # pip install -r requirements.txt"
   ]
  },
  {
   "cell_type": "code",
   "execution_count": 1,
   "id": "e3dfe8e7",
   "metadata": {},
   "outputs": [
    {
     "ename": "ModuleNotFoundError",
     "evalue": "No module named 'audiobox_aesthetics'",
     "output_type": "error",
     "traceback": [
      "\u001b[1;31m---------------------------------------------------------------------------\u001b[0m",
      "\u001b[1;31mModuleNotFoundError\u001b[0m                       Traceback (most recent call last)",
      "Cell \u001b[1;32mIn[1], line 6\u001b[0m\n\u001b[0;32m      4\u001b[0m \u001b[38;5;28;01mimport\u001b[39;00m\u001b[38;5;250m \u001b[39m\u001b[38;5;21;01mtorch\u001b[39;00m\n\u001b[0;32m      5\u001b[0m \u001b[38;5;28;01mimport\u001b[39;00m\u001b[38;5;250m \u001b[39m\u001b[38;5;21;01mpandas\u001b[39;00m\u001b[38;5;250m \u001b[39m\u001b[38;5;28;01mas\u001b[39;00m\u001b[38;5;250m \u001b[39m\u001b[38;5;21;01mpd\u001b[39;00m\n\u001b[1;32m----> 6\u001b[0m \u001b[38;5;28;01mfrom\u001b[39;00m\u001b[38;5;250m \u001b[39m\u001b[38;5;21;01maudiobox_aesthetics\u001b[39;00m\u001b[38;5;21;01m.\u001b[39;00m\u001b[38;5;21;01minfer\u001b[39;00m\u001b[38;5;250m \u001b[39m\u001b[38;5;28;01mimport\u001b[39;00m initialize_predictor\n\u001b[0;32m      8\u001b[0m \u001b[38;5;28;01mdef\u001b[39;00m\u001b[38;5;250m \u001b[39m\u001b[38;5;21mmain\u001b[39m():\n\u001b[0;32m      9\u001b[0m     audio_dir \u001b[38;5;241m=\u001b[39m \u001b[38;5;124mr\u001b[39m\u001b[38;5;124m\"\u001b[39m\u001b[38;5;124mC:\u001b[39m\u001b[38;5;124m\\\u001b[39m\u001b[38;5;124mUsers\u001b[39m\u001b[38;5;124m\\\u001b[39m\u001b[38;5;124mforti\u001b[39m\u001b[38;5;124m\\\u001b[39m\u001b[38;5;124mOneDrive - Politecnico di Milano\u001b[39m\u001b[38;5;124m\\\u001b[39m\u001b[38;5;124m01. PhD\u001b[39m\u001b[38;5;124m\\\u001b[39m\u001b[38;5;124m02. Experiments\u001b[39m\u001b[38;5;124m\\\u001b[39m\u001b[38;5;124mFCP 2025\u001b[39m\u001b[38;5;124m\\\u001b[39m\u001b[38;5;124mAssoradio\u001b[39m\u001b[38;5;124m\\\u001b[39m\u001b[38;5;124maudio-aesthetics\u001b[39m\u001b[38;5;124m\\\u001b[39m\u001b[38;5;124massets\u001b[39m\u001b[38;5;124m\"\u001b[39m\n",
      "\u001b[1;31mModuleNotFoundError\u001b[0m: No module named 'audiobox_aesthetics'"
     ]
    }
   ],
   "source": [
    "import os\n",
    "import glob\n",
    "import soundfile as sf\n",
    "import torch\n",
    "import pandas as pd\n",
    "from audiobox_aesthetics.infer import initialize_predictor\n",
    "\n",
    "def main():\n",
    "    audio_dir = r\"C:\\Users\\forti\\OneDrive - Politecnico di Milano\\01. PhD\\02. Experiments\\FCP 2025\\Assoradio\\audio-aesthetics\\assets\"\n",
    "    audio_files = glob.glob(os.path.join(audio_dir, \"*.mp3\"))\n",
    "    \n",
    "    predictor = initialize_predictor()\n",
    "    \n",
    "    batch_data = []\n",
    "    for fpath in audio_files:\n",
    "        data, sr = sf.read(fpath)\n",
    "        audio_tensor = torch.tensor(data, dtype=torch.float32).T\n",
    "        batch_data.append({\"path\": audio_tensor, \"sample_rate\": sr, \"filename\": fpath})\n",
    "    \n",
    "    # Forward pass over all files\n",
    "    predictions = predictor.forward(batch_data)\n",
    "    \n",
    "    results = []\n",
    "    for pred, info in zip(predictions, batch_data):\n",
    "        ce_val = pred.get(\"CE\", None)\n",
    "        cu_val = pred.get(\"CU\", None)\n",
    "        pc_val = pred.get(\"PC\", None)\n",
    "        pq_val = pred.get(\"PQ\", None)\n",
    "        \n",
    "        file_name = os.path.basename(info[\"filename\"])\n",
    "        results.append([\n",
    "            file_name,\n",
    "            ce_val,\n",
    "            cu_val,\n",
    "            pc_val,\n",
    "            pq_val\n",
    "        ])\n",
    "    \n",
    "    # Rename columns in the final DataFrame\n",
    "    df = pd.DataFrame(results, columns=[\n",
    "        \"File\",\n",
    "        \"Content Enjoyment (CE)\",\n",
    "        \"Content Usefulness (CU)\",\n",
    "        \"Production Complexity (PC)\",\n",
    "        \"Production Quality (PQ)\"\n",
    "    ])\n",
    "    print(df)\n",
    "    df.to_csv(\"aesthetics_results.csv\", index=False)\n",
    "\n",
    "if __name__ == \"__main__\":\n",
    "    main()\n"
   ]
  },
  {
   "cell_type": "code",
   "execution_count": 7,
   "id": "6cc2019a",
   "metadata": {},
   "outputs": [
    {
     "name": "stdout",
     "output_type": "stream",
     "text": [
      "True\n"
     ]
    }
   ],
   "source": [
    "import importlib.util\n",
    "print(importlib.util.find_spec(\"safetensors\") is not None)"
   ]
  }
 ],
 "metadata": {
  "kernelspec": {
   "display_name": "env",
   "language": "python",
   "name": "python3"
  },
  "language_info": {
   "codemirror_mode": {
    "name": "ipython",
    "version": 3
   },
   "file_extension": ".py",
   "mimetype": "text/x-python",
   "name": "python",
   "nbconvert_exporter": "python",
   "pygments_lexer": "ipython3",
   "version": "3.10.11"
  }
 },
 "nbformat": 4,
 "nbformat_minor": 5
}
