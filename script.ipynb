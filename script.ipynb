{
 "cells": [
  {
   "cell_type": "code",
   "execution_count": null,
   "id": "8ee970e3",
   "metadata": {},
   "outputs": [],
   "source": [
    "# When running for the first time, run in terminal to set up the environment:\n",
    "    # python -m venv env\n",
    "    # Set-ExecutionPolicy -ExecutionPolicy Bypass -Scope Process\n",
    "    # .\\env\\Scripts\\activate\n",
    "    # pip install -r requirements.txt"
   ]
  },
  {
   "cell_type": "code",
   "execution_count": 1,
   "id": "e3dfe8e7",
   "metadata": {},
   "outputs": [
    {
     "name": "stderr",
     "output_type": "stream",
     "text": [
      "c:\\GitHub\\audio-aesthetics\\env\\lib\\site-packages\\tqdm\\auto.py:21: TqdmWarning: IProgress not found. Please update jupyter and ipywidgets. See https://ipywidgets.readthedocs.io/en/stable/user_install.html\n",
      "  from .autonotebook import tqdm as notebook_tqdm\n",
      "c:\\GitHub\\audio-aesthetics\\env\\lib\\site-packages\\torch\\nn\\utils\\weight_norm.py:143: FutureWarning: `torch.nn.utils.weight_norm` is deprecated in favor of `torch.nn.utils.parametrizations.weight_norm`.\n",
      "  WeightNorm.apply(module, name, dim)\n"
     ]
    },
    {
     "ename": "RuntimeError",
     "evalue": "stack expects a non-empty TensorList",
     "output_type": "error",
     "traceback": [
      "\u001b[1;31m---------------------------------------------------------------------------\u001b[0m",
      "\u001b[1;31mRuntimeError\u001b[0m                              Traceback (most recent call last)",
      "Cell \u001b[1;32mIn[1], line 51\u001b[0m\n\u001b[0;32m     48\u001b[0m     df\u001b[38;5;241m.\u001b[39mto_csv(\u001b[38;5;124m\"\u001b[39m\u001b[38;5;124maesthetics_results.csv\u001b[39m\u001b[38;5;124m\"\u001b[39m, index\u001b[38;5;241m=\u001b[39m\u001b[38;5;28;01mFalse\u001b[39;00m)\n\u001b[0;32m     50\u001b[0m \u001b[38;5;28;01mif\u001b[39;00m \u001b[38;5;18m__name__\u001b[39m \u001b[38;5;241m==\u001b[39m \u001b[38;5;124m\"\u001b[39m\u001b[38;5;124m__main__\u001b[39m\u001b[38;5;124m\"\u001b[39m:\n\u001b[1;32m---> 51\u001b[0m     \u001b[43mmain\u001b[49m\u001b[43m(\u001b[49m\u001b[43m)\u001b[49m\n",
      "Cell \u001b[1;32mIn[1], line 21\u001b[0m, in \u001b[0;36mmain\u001b[1;34m()\u001b[0m\n\u001b[0;32m     18\u001b[0m     batch_data\u001b[38;5;241m.\u001b[39mappend({\u001b[38;5;124m\"\u001b[39m\u001b[38;5;124mpath\u001b[39m\u001b[38;5;124m\"\u001b[39m: audio_tensor, \u001b[38;5;124m\"\u001b[39m\u001b[38;5;124msample_rate\u001b[39m\u001b[38;5;124m\"\u001b[39m: sr, \u001b[38;5;124m\"\u001b[39m\u001b[38;5;124mfilename\u001b[39m\u001b[38;5;124m\"\u001b[39m: fpath})\n\u001b[0;32m     20\u001b[0m \u001b[38;5;66;03m# Forward pass over all files\u001b[39;00m\n\u001b[1;32m---> 21\u001b[0m predictions \u001b[38;5;241m=\u001b[39m \u001b[43mpredictor\u001b[49m\u001b[38;5;241;43m.\u001b[39;49m\u001b[43mforward\u001b[49m\u001b[43m(\u001b[49m\u001b[43mbatch_data\u001b[49m\u001b[43m)\u001b[49m\n\u001b[0;32m     23\u001b[0m results \u001b[38;5;241m=\u001b[39m []\n\u001b[0;32m     24\u001b[0m \u001b[38;5;28;01mfor\u001b[39;00m pred, info \u001b[38;5;129;01min\u001b[39;00m \u001b[38;5;28mzip\u001b[39m(predictions, batch_data):\n",
      "File \u001b[1;32mc:\\GitHub\\audio-aesthetics\\env\\lib\\site-packages\\audiobox_aesthetics\\infer.py:180\u001b[0m, in \u001b[0;36mAesPredictor.forward\u001b[1;34m(self, batch)\u001b[0m\n\u001b[0;32m    172\u001b[0m wavs, masks, weights, bids \u001b[38;5;241m=\u001b[39m make_inference_batch(\n\u001b[0;32m    173\u001b[0m     wavs,\n\u001b[0;32m    174\u001b[0m     \u001b[38;5;241m10\u001b[39m,\n\u001b[0;32m    175\u001b[0m     \u001b[38;5;241m10\u001b[39m,\n\u001b[0;32m    176\u001b[0m     sample_rate\u001b[38;5;241m=\u001b[39m\u001b[38;5;28mself\u001b[39m\u001b[38;5;241m.\u001b[39msample_rate,\n\u001b[0;32m    177\u001b[0m )\n\u001b[0;32m    179\u001b[0m \u001b[38;5;66;03m# collate\u001b[39;00m\n\u001b[1;32m--> 180\u001b[0m wavs \u001b[38;5;241m=\u001b[39m \u001b[43mtorch\u001b[49m\u001b[38;5;241;43m.\u001b[39;49m\u001b[43mstack\u001b[49m\u001b[43m(\u001b[49m\u001b[43mwavs\u001b[49m\u001b[43m)\u001b[49m\u001b[38;5;241m.\u001b[39mto(\u001b[38;5;28mself\u001b[39m\u001b[38;5;241m.\u001b[39mdevice)\n\u001b[0;32m    181\u001b[0m masks \u001b[38;5;241m=\u001b[39m torch\u001b[38;5;241m.\u001b[39mstack(masks)\u001b[38;5;241m.\u001b[39mto(\u001b[38;5;28mself\u001b[39m\u001b[38;5;241m.\u001b[39mdevice)\n\u001b[0;32m    182\u001b[0m weights \u001b[38;5;241m=\u001b[39m torch\u001b[38;5;241m.\u001b[39mtensor(weights)\u001b[38;5;241m.\u001b[39mto(\u001b[38;5;28mself\u001b[39m\u001b[38;5;241m.\u001b[39mdevice)\n",
      "\u001b[1;31mRuntimeError\u001b[0m: stack expects a non-empty TensorList"
     ]
    }
   ],
   "source": [
    "import os\n",
    "import glob\n",
    "import soundfile as sf\n",
    "import torch\n",
    "import pandas as pd\n",
    "from audiobox_aesthetics.infer import initialize_predictor\n",
    "\n",
    "def main():\n",
    "    audio_dir = r\"C:\\Users\\forti\\OneDrive - Politecnico di Milano\\01. PhD\\02. Experiments\\FCP 2025\\Assoradio\\audio-aesthetics\\assets\"\n",
    "    audio_files = glob.glob(os.path.join(audio_dir, \"*.mp3\"))\n",
    "    \n",
    "    predictor = initialize_predictor()\n",
    "    \n",
    "    batch_data = []\n",
    "    for fpath in audio_files:\n",
    "        data, sr = sf.read(fpath)\n",
    "        audio_tensor = torch.tensor(data, dtype=torch.float32).T\n",
    "        batch_data.append({\"path\": audio_tensor, \"sample_rate\": sr, \"filename\": fpath})\n",
    "    \n",
    "    # Forward pass over all files\n",
    "    predictions = predictor.forward(batch_data)\n",
    "    \n",
    "    results = []\n",
    "    for pred, info in zip(predictions, batch_data):\n",
    "        ce_val = pred.get(\"CE\", None)\n",
    "        cu_val = pred.get(\"CU\", None)\n",
    "        pc_val = pred.get(\"PC\", None)\n",
    "        pq_val = pred.get(\"PQ\", None)\n",
    "        \n",
    "        file_name = os.path.basename(info[\"filename\"])\n",
    "        results.append([\n",
    "            file_name,\n",
    "            ce_val,\n",
    "            cu_val,\n",
    "            pc_val,\n",
    "            pq_val\n",
    "        ])\n",
    "    \n",
    "    # Rename columns in the final DataFrame\n",
    "    df = pd.DataFrame(results, columns=[\n",
    "        \"File\",\n",
    "        \"Content Enjoyment (CE)\",\n",
    "        \"Content Usefulness (CU)\",\n",
    "        \"Production Complexity (PC)\",\n",
    "        \"Production Quality (PQ)\"\n",
    "    ])\n",
    "    print(df)\n",
    "    df.to_csv(\"aesthetics_results.csv\", index=False)\n",
    "\n",
    "if __name__ == \"__main__\":\n",
    "    main()\n"
   ]
  },
  {
   "cell_type": "code",
   "execution_count": 7,
   "id": "6cc2019a",
   "metadata": {},
   "outputs": [
    {
     "name": "stdout",
     "output_type": "stream",
     "text": [
      "True\n"
     ]
    }
   ],
   "source": [
    "import importlib.util\n",
    "print(importlib.util.find_spec(\"safetensors\") is not None)"
   ]
  }
 ],
 "metadata": {
  "kernelspec": {
   "display_name": "env",
   "language": "python",
   "name": "python3"
  },
  "language_info": {
   "codemirror_mode": {
    "name": "ipython",
    "version": 3
   },
   "file_extension": ".py",
   "mimetype": "text/x-python",
   "name": "python",
   "nbconvert_exporter": "python",
   "pygments_lexer": "ipython3",
   "version": "3.10.11"
  }
 },
 "nbformat": 4,
 "nbformat_minor": 5
}
