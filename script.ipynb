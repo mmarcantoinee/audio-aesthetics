{
 "cells": [
  {
   "cell_type": "code",
   "execution_count": null,
   "id": "8ee970e3",
   "metadata": {},
   "outputs": [],
   "source": [
    "# When running for the first time, run in terminal to set up the environment:\n",
    "    # python -m venv env\n",
    "    # Set-ExecutionPolicy -ExecutionPolicy Bypass -Scope Process\n",
    "    # .\\env\\Scripts\\activate\n",
    "    # pip install -r requirements.txt"
   ]
  },
  {
   "cell_type": "code",
   "execution_count": 2,
   "id": "515f04c3",
   "metadata": {},
   "outputs": [
    {
     "name": "stderr",
     "output_type": "stream",
     "text": [
      "c:\\GitHub\\audio-aesthetics\\env\\lib\\site-packages\\tqdm\\auto.py:21: TqdmWarning: IProgress not found. Please update jupyter and ipywidgets. See https://ipywidgets.readthedocs.io/en/stable/user_install.html\n",
      "  from .autonotebook import tqdm as notebook_tqdm\n"
     ]
    }
   ],
   "source": [
    "import os\n",
    "import glob\n",
    "import soundfile as sf\n",
    "import torch\n",
    "import pandas as pd\n",
    "from audiobox_aesthetics.infer import initialize_predictor"
   ]
  },
  {
   "cell_type": "code",
   "execution_count": 3,
   "id": "e3dfe8e7",
   "metadata": {},
   "outputs": [
    {
     "name": "stderr",
     "output_type": "stream",
     "text": [
      "c:\\GitHub\\audio-aesthetics\\env\\lib\\site-packages\\torch\\nn\\utils\\weight_norm.py:143: FutureWarning: `torch.nn.utils.weight_norm` is deprecated in favor of `torch.nn.utils.parametrizations.weight_norm`.\n",
      "  WeightNorm.apply(module, name, dim)\n",
      "c:\\GitHub\\audio-aesthetics\\env\\lib\\site-packages\\torch\\nn\\functional.py:5849: UserWarning: Support for mismatched key_padding_mask and attn_mask is deprecated. Use same type for both instead.\n",
      "  warnings.warn(\n"
     ]
    },
    {
     "name": "stdout",
     "output_type": "stream",
     "text": [
      "                           File  Content Enjoyment (CE)  \\\n",
      "0          playlist_bernina.mp3                6.759501   \n",
      "1          playlist_citroen.mp3                5.785450   \n",
      "2          playlist_melinda.mp3                6.228623   \n",
      "3  playlist_natural-trainer.mp3                6.344067   \n",
      "4      playlist_parmareggio.mp3                6.677727   \n",
      "5          playlist_repower.mp3                6.305100   \n",
      "6         playlist_tenderly.mp3                5.872531   \n",
      "7        playlist_valfrutta.mp3                6.015845   \n",
      "8           playlist_yakult.mp3                6.354249   \n",
      "\n",
      "   Content Usefulness (CU)  Production Complexity (PC)  \\\n",
      "0                 5.221872                    6.496495   \n",
      "1                 6.332826                    5.257134   \n",
      "2                 6.047773                    6.500406   \n",
      "3                 5.609169                    6.538504   \n",
      "4                 5.640616                    6.699841   \n",
      "5                 5.676331                    6.908421   \n",
      "6                 4.677937                    5.471741   \n",
      "7                 6.011967                    5.741121   \n",
      "8                 6.532869                    6.616539   \n",
      "\n",
      "   Production Quality (PQ)  \n",
      "0                 7.747781  \n",
      "1                 7.861231  \n",
      "2                 7.876409  \n",
      "3                 7.953866  \n",
      "4                 7.807873  \n",
      "5                 7.500103  \n",
      "6                 7.074959  \n",
      "7                 7.711376  \n",
      "8                 7.933070  \n"
     ]
    }
   ],
   "source": [
    "def main():\n",
    "    audio_dir = r\"C:\\GitHub\\audio-aesthetics\\assets\"\n",
    "    audio_files = glob.glob(os.path.join(audio_dir, \"*.mp3\"))\n",
    "    \n",
    "    predictor = initialize_predictor()\n",
    "    \n",
    "    batch_data = []\n",
    "    for fpath in audio_files:\n",
    "        data, sr = sf.read(fpath)\n",
    "        audio_tensor = torch.tensor(data, dtype=torch.float32).T\n",
    "        batch_data.append({\"path\": audio_tensor, \"sample_rate\": sr, \"filename\": fpath})\n",
    "    \n",
    "    # Forward pass over all files\n",
    "    predictions = predictor.forward(batch_data)\n",
    "    \n",
    "    results = []\n",
    "    for pred, info in zip(predictions, batch_data):\n",
    "        ce_val = pred.get(\"CE\", None)\n",
    "        cu_val = pred.get(\"CU\", None)\n",
    "        pc_val = pred.get(\"PC\", None)\n",
    "        pq_val = pred.get(\"PQ\", None)\n",
    "        \n",
    "        file_name = os.path.basename(info[\"filename\"])\n",
    "        results.append([\n",
    "            file_name,\n",
    "            ce_val,\n",
    "            cu_val,\n",
    "            pc_val,\n",
    "            pq_val\n",
    "        ])\n",
    "    \n",
    "    # Rename columns in the final DataFrame\n",
    "    df = pd.DataFrame(results, columns=[\n",
    "        \"File\",\n",
    "        \"Content Enjoyment (CE)\",\n",
    "        \"Content Usefulness (CU)\",\n",
    "        \"Production Complexity (PC)\",\n",
    "        \"Production Quality (PQ)\"\n",
    "    ])\n",
    "    print(df)\n",
    "    df.to_csv(\"aesthetics_results.csv\", index=False)\n",
    "\n",
    "if __name__ == \"__main__\":\n",
    "    main()\n"
   ]
  },
  {
   "cell_type": "code",
   "execution_count": 7,
   "id": "6cc2019a",
   "metadata": {},
   "outputs": [
    {
     "name": "stdout",
     "output_type": "stream",
     "text": [
      "True\n"
     ]
    }
   ],
   "source": [
    "import importlib.util\n",
    "print(importlib.util.find_spec(\"safetensors\") is not None)"
   ]
  }
 ],
 "metadata": {
  "kernelspec": {
   "display_name": "env",
   "language": "python",
   "name": "python3"
  },
  "language_info": {
   "codemirror_mode": {
    "name": "ipython",
    "version": 3
   },
   "file_extension": ".py",
   "mimetype": "text/x-python",
   "name": "python",
   "nbconvert_exporter": "python",
   "pygments_lexer": "ipython3",
   "version": "3.10.11"
  }
 },
 "nbformat": 4,
 "nbformat_minor": 5
}
